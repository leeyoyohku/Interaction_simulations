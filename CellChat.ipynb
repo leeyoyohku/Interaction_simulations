{
 "cells": [
  {
   "cell_type": "code",
   "execution_count": null,
   "id": "7e57ca1c",
   "metadata": {},
   "outputs": [],
   "source": [
    "# devtools::install_github(\"sqjin/CellChat\",force = TRUE)\n",
    "# BiocManager::install(\"BayesSpace\")\n",
    "# BiocManager::install(\"SingleCellExperiment\")\n",
    "# BiocManager::install(\"scran\")\n",
    "\n",
    "library(\"CellChat\")\n",
    "library(\"BayesSpace\")"
   ]
  },
  {
   "cell_type": "code",
   "execution_count": 4,
   "id": "3909b69a",
   "metadata": {},
   "outputs": [],
   "source": [
    "melanoma <- readRDS(\"~/1_spatial/spatial-datasets-master/data/rds/2018_thrane_melanoma/ST_mel1_rep2.rds\")"
   ]
  },
  {
   "cell_type": "code",
   "execution_count": 6,
   "id": "cad09ab0",
   "metadata": {
    "scrolled": true
   },
   "outputs": [],
   "source": [
    "# use BayesSpace for spatial clustering\n",
    "set.seed(100)\n",
    "dec <- scran::modelGeneVar(melanoma)\n",
    "top <- scran::getTopHVGs(dec, n = 2000)\n",
    "\n",
    "set.seed(101)\n",
    "melanoma <- scater::runPCA(melanoma, subset_row = top)\n",
    "\n",
    "## Add BayesSpace metadata\n",
    "melanoma <- spatialPreprocess(melanoma, platform=\"ST\", skip.PCA=TRUE)\n",
    "\n",
    "q <- 4  # Number of clusters\n",
    "d <- 7  # Number of PCs\n",
    "\n",
    "set.seed(100)\n",
    "melanoma <- spatialCluster(melanoma, q=q, d=d, platform='ST',\n",
    "                           nrep=50000, gamma=2)\n",
    "\n",
    "# write.csv(melanoma@colData, file='~/1_spatial/1_Tumor/BS_clustering.csv')"
   ]
  },
  {
   "cell_type": "code",
   "execution_count": 34,
   "id": "502e616d",
   "metadata": {
    "collapsed": true
   },
   "outputs": [
    {
     "name": "stderr",
     "output_type": "stream",
     "text": [
      "Neighbors were identified for 293 out of 293 spots.\n",
      "\n",
      "Fitting model...\n",
      "\n",
      "Calculating labels using iterations 1000 through 50000.\n",
      "\n"
     ]
    },
    {
     "data": {
      "image/png": "[encoded data removed]",
      "text/plain": [
       "plot without title"
      ]
     },
     "metadata": {
      "image/png": {
       "height": 420,
       "width": 420
      }
     },
     "output_type": "display_data"
    }
   ],
   "source": [
    "## View results\n",
    "palette <- c(\"purple\", \"red\", \"blue\", \"yellow\", \"darkblue\")\n",
    "clusterPlot(melanoma, palette=palette, color=\"black\", size=0.1) +\n",
    "    labs(title=\"BayesSpace\")"
   ]
  },
  {
   "cell_type": "code",
   "execution_count": 8,
   "id": "e8523b7b",
   "metadata": {},
   "outputs": [],
   "source": [
    "meta <- data.frame(melanoma@colData)"
   ]
  },
  {
   "cell_type": "code",
   "execution_count": 9,
   "id": "e93e6b2b",
   "metadata": {},
   "outputs": [],
   "source": [
    "library(CellChat)\n",
    "library(patchwork)\n",
    "\n",
    "options(stringsAsFactors = FALSE)"
   ]
  },
  {
   "cell_type": "code",
   "execution_count": 10,
   "id": "5c255f3f",
   "metadata": {},
   "outputs": [],
   "source": [
    "data <- read.csv('melanoma/data/nul/NUL_data.csv',row.names = 1)\n",
    "# data <- read.csv('melanoma/neg2pos/rescale25/RESCALE25.csv',row.names = 1)\n",
    "# data <- read.csv('melanoma/neg2pos/half/HALF.csv',row.names = 1)\n",
    "# data <- read.csv('melanoma/neg2pos/rescale75/RESCALE75.csv',row.names = 1)\n",
    "# data <- read.csv('melanoma/neg2pos/full/FULL.csv',row.names = 1)\n",
    "# data = data.frame(as.matrix(logcounts(melanoma)))    # neg ctr in melanoma shuffled set\n"
   ]
  },
  {
   "cell_type": "code",
   "execution_count": 11,
   "id": "f956147e",
   "metadata": {},
   "outputs": [],
   "source": [
    "colnames(data)=rownames(meta)"
   ]
  },
  {
   "cell_type": "code",
   "execution_count": 53,
   "id": "81821b45",
   "metadata": {
    "scrolled": false
   },
   "outputs": [
    {
     "name": "stderr",
     "output_type": "stream",
     "text": [
      "Create a CellChat object from a data matrix\n",
      "\n",
      "Set cell identities for the new CellChat object\n",
      "\n"
     ]
    },
    {
     "name": "stdout",
     "output_type": "stream",
     "text": [
      "The cell groups used for CellChat analysis are  1 2 3 4 \n"
     ]
    }
   ],
   "source": [
    "cellchat <- createCellChat(object = data.matrix(data),\n",
    "                           meta = meta, group.by = \"spatial.cluster\")\n",
    "\n",
    "# update database for simulated data\n",
    "CellChatDB <- CellChatDB.human\n",
    "II  <- read.csv('II_allpairs.csv',row.names = 1)\n",
    "CellChatDB$interaction <- II\n",
    "gi <- read.csv('GI_allpairs.csv',row.names = 1)\n",
    "CellChatDB$geneInfo <- gi\n",
    "\n",
    "CellChatDB.use <- CellChatDB"
   ]
  },
  {
   "cell_type": "code",
   "execution_count": null,
   "id": "72329bb4",
   "metadata": {},
   "outputs": [],
   "source": [
    "# neg ctr in melanoma shuffled set\n",
    "\n",
    "# CellChatDB <- CellChatDB.human\n",
    "# CellChatDB$interaction=CellChatDB$interaction[1:663,]\n",
    "\n",
    "# replace the DB ligand\n",
    "# neg_ls = read.csv('~/1_spatial/1_Tumor/neg_list.csv', row.names = 1)\n",
    "# CellChatDB$interaction$ligand =neg_ls$ligand\n",
    "# CellChatDB$interaction$receptor =neg_ls$receptor\n",
    "# row.names(CellChatDB$interaction) = row.names(neg_ls)"
   ]
  },
  {
   "cell_type": "code",
   "execution_count": null,
   "id": "a5c10494",
   "metadata": {},
   "outputs": [],
   "source": [
    "future::plan(\"multiprocess\", workers = 50) # do parallel\n",
    "\n",
    "CellChatDB.use <- CellChatDB\n",
    "cellchat@DB <- CellChatDB.use\n",
    "cellchat <- subsetData(cellchat)"
   ]
  },
  {
   "cell_type": "code",
   "execution_count": null,
   "id": "381dbd2f",
   "metadata": {},
   "outputs": [],
   "source": [
    "# default trimean\n",
    "# cellchat <- identifyOverExpressedGenes(cellchat)\n",
    "# cellchat <- identifyOverExpressedInteractions(cellchat)\n",
    "# cellchat <- computeCommunProb(cellchat)\n"
   ]
  },
  {
   "cell_type": "code",
   "execution_count": 104,
   "id": "6a9c6e13",
   "metadata": {},
   "outputs": [],
   "source": [
    "# truncatedMean\n",
    "cellchat <- identifyOverExpressedGenes(cellchat,thresh.pc = -0.1,thresh.fc = -0.1, thresh.p = 1.1)\n",
    "cellchat <- identifyOverExpressedInteractions(cellchat)\n",
    "cellchat <- computeCommunProb(cellchat, type =  \"truncatedMean\", trim = 0)"
   ]
  },
  {
   "cell_type": "code",
   "execution_count": null,
   "id": "028df6b0",
   "metadata": {},
   "outputs": [],
   "source": [
    "# write.csv(cellchat@net$pval,file='melanoma/neg2pos/rescale75/cc_pval_trunc.csv')\n",
    "# write.csv(cellchat@net$pval,file='~/1_spatial/1_Tumor/CCres_real_trun.csv')"
   ]
  }
 ],
 "metadata": {
  "kernelspec": {
   "display_name": "R",
   "language": "R",
   "name": "ir"
  },
  "language_info": {
   "codemirror_mode": "r",
   "file_extension": ".r",
   "mimetype": "text/x-r-source",
   "name": "R",
   "pygments_lexer": "r",
   "version": "4.1.3"
  }
 },
 "nbformat": 4,
 "nbformat_minor": 5
}
